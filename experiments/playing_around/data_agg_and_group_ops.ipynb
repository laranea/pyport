{
 "nbformat": 4,
 "nbformat_minor": 2,
 "metadata": {
  "language_info": {
   "name": "python",
   "codemirror_mode": {
    "name": "ipython",
    "version": 3
   },
   "version": "3.7.3"
  },
  "orig_nbformat": 2,
  "file_extension": ".py",
  "mimetype": "text/x-python",
  "name": "python",
  "npconvert_exporter": "python",
  "pygments_lexer": "ipython3",
  "version": 3
 },
 "cells": [
  {
   "cell_type": "code",
   "execution_count": 1,
   "metadata": {},
   "outputs": [],
   "source": [
    "import pandas as pd"
   ]
  },
  {
   "cell_type": "markdown",
   "execution_count": null,
   "metadata": {},
   "outputs": [],
   "source": [
    "I've always felt like I never got the hang of data maniupulation in pandas. It's not one of the things I can confidently do. I always turn back to my pandas text book or go to the documentation. I need to have a better grasp of it if I am to carryout what I want in my project. Otherwise I'm going to be struggling often. Time to learn.\n",
    "\n",
    "## Things I think I need to revisit:\n",
    "* Heirarchical Indexing (for when dealing with pandas data reader results)\n",
    "* Converting to Heirarchical Indexing from a 2D dataset (for now, doing it efficiently is not a goal, simply get it done)\n",
    "* Handling Heirarchical indexed data.\n",
    "* Combining and Merging Datasets\n",
    "\n",
    "Material I'm revisting can be found [here](https://github.com/wesm/pydata-book/blob/2nd-edition/ch05.ipynb)"
   ]
  },
  {
   "cell_type": "code",
   "execution_count": null,
   "metadata": {},
   "outputs": [],
   "source": []
  }
 ]
}